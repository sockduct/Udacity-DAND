{
 "cells": [
  {
   "cell_type": "markdown",
   "metadata": {},
   "source": [
    "### Analyzing the Stroop Effect\n",
    "Perform the analysis in the space below. Remember to follow [the instructions](https://docs.google.com/document/d/1-OkpZLjG_kX9J6LIQ5IltsqMzVWjh36QpnP2RYpVdPU/pub?embedded=True) and review the [project rubric](https://review.udacity.com/#!/rubrics/71/view) before submitting. Once you've completed the analysis and write-up, download this file as a PDF or HTML file, upload that PDF/HTML into the workspace here (click on the orange Jupyter icon in the upper left then Upload), then use the Submit Project button at the bottom of this page. This will create a zip file containing both this .ipynb doc and the PDF/HTML doc that will be submitted for your project.\n",
    "\n",
    "\n",
    "(1) What is the independent variable? What is the dependent variable?"
   ]
  },
  {
   "cell_type": "markdown",
   "metadata": {},
   "source": [
    "Independent variable:  Congruency of a word with its font color\n",
    "<br>\n",
    "Dependent variable:  Time for person to name word font colors"
   ]
  },
  {
   "cell_type": "markdown",
   "metadata": {},
   "source": [
    "(2) What is an appropriate set of hypotheses for this task? Specify your null and alternative hypotheses, and clearly define any notation used. Justify your choices."
   ]
  },
  {
   "cell_type": "markdown",
   "metadata": {},
   "source": [
    "<dl>\n",
    "    <dt>Null Hypothesis:  $H_0:  \\mu_{t_c} = \\mu_{t_{ic}}$</dt>\n",
    "    <dd>The time for a person to name word font colors won't be significantly impacted by the color's congruency with the word.  i.e., $\\mu_{t_c}$ (Population Mean Time to name Congruent color) = $\\mu_{t_{ic}}$ (Population Mean Time to name InCongruent color)</dd>\n",
    "    <br>\n",
    "    <dt>Alternative Hypothesis:  $H_A:  \\mu_{t_c} != \\mu_{t_{ic}}$</dt>\n",
    "    <dd>The time will be impacted by congruency.</dd>\n",
    "    <br>\n",
    "    <dt>Statistical Test:</dt>\n",
    "    <dd>A paired t-test will be used to compare the means of the two datasets.</dd>\n",
    "    <br>\n",
    "    <dt>Assumptions for Paired T-Test:</dt>\n",
    "    <dd><ul>\n",
    "        <li>Interval or ratio scale of measurement?  Yes, time meets this criteria.</li>\n",
    "        <li>Random sampling from a defined population?  Yes, assuming data set collected by random sampling.</li>\n",
    "        <li>Samples or sets of data used to produce the difference scores are linked in the population through repeated measurement, natural association, or matching?  Yes, samples linked through repeated measurement.</li>\n",
    "        <li>Scores are normally distributed in the population; difference scores are normally distributed?  Data is somewhat evenly distributed, but not normal.  However, this test is typically \"robust\" for violations of normal distribution, especially since we're using a two-tailed test.</li>\n",
    "        </ul>\n",
    "    </dd>\n",
    "</dl>"
   ]
  },
  {
   "cell_type": "markdown",
   "metadata": {},
   "source": [
    "(3) Report some descriptive statistics regarding this dataset. Include at least one measure of central tendency and at least one measure of variability. The name of the data file is 'stroopdata.csv'."
   ]
  },
  {
   "cell_type": "code",
   "execution_count": 1,
   "metadata": {},
   "outputs": [
    {
     "data": {
      "text/html": [
       "<div>\n",
       "<style scoped>\n",
       "    .dataframe tbody tr th:only-of-type {\n",
       "        vertical-align: middle;\n",
       "    }\n",
       "\n",
       "    .dataframe tbody tr th {\n",
       "        vertical-align: top;\n",
       "    }\n",
       "\n",
       "    .dataframe thead th {\n",
       "        text-align: right;\n",
       "    }\n",
       "</style>\n",
       "<table border=\"1\" class=\"dataframe\">\n",
       "  <thead>\n",
       "    <tr style=\"text-align: right;\">\n",
       "      <th></th>\n",
       "      <th>Congruent</th>\n",
       "      <th>Incongruent</th>\n",
       "    </tr>\n",
       "  </thead>\n",
       "  <tbody>\n",
       "    <tr>\n",
       "      <th>0</th>\n",
       "      <td>12.079</td>\n",
       "      <td>19.278</td>\n",
       "    </tr>\n",
       "    <tr>\n",
       "      <th>1</th>\n",
       "      <td>16.791</td>\n",
       "      <td>18.741</td>\n",
       "    </tr>\n",
       "    <tr>\n",
       "      <th>2</th>\n",
       "      <td>9.564</td>\n",
       "      <td>21.214</td>\n",
       "    </tr>\n",
       "    <tr>\n",
       "      <th>3</th>\n",
       "      <td>8.630</td>\n",
       "      <td>15.687</td>\n",
       "    </tr>\n",
       "    <tr>\n",
       "      <th>4</th>\n",
       "      <td>14.669</td>\n",
       "      <td>22.803</td>\n",
       "    </tr>\n",
       "  </tbody>\n",
       "</table>\n",
       "</div>"
      ],
      "text/plain": [
       "   Congruent  Incongruent\n",
       "0     12.079       19.278\n",
       "1     16.791       18.741\n",
       "2      9.564       21.214\n",
       "3      8.630       15.687\n",
       "4     14.669       22.803"
      ]
     },
     "execution_count": 1,
     "metadata": {},
     "output_type": "execute_result"
    }
   ],
   "source": [
    "# Perform the analysis here\n",
    "import pandas as pd\n",
    "import numpy as np\n",
    "import matplotlib.pyplot as plt\n",
    "import seaborn as sns\n",
    "\n",
    "%matplotlib inline\n",
    "\n",
    "df = pd.read_csv('stroopdata.csv')\n",
    "df.head()"
   ]
  },
  {
   "cell_type": "code",
   "execution_count": 2,
   "metadata": {},
   "outputs": [
    {
     "data": {
      "text/html": [
       "<div>\n",
       "<style scoped>\n",
       "    .dataframe tbody tr th:only-of-type {\n",
       "        vertical-align: middle;\n",
       "    }\n",
       "\n",
       "    .dataframe tbody tr th {\n",
       "        vertical-align: top;\n",
       "    }\n",
       "\n",
       "    .dataframe thead th {\n",
       "        text-align: right;\n",
       "    }\n",
       "</style>\n",
       "<table border=\"1\" class=\"dataframe\">\n",
       "  <thead>\n",
       "    <tr style=\"text-align: right;\">\n",
       "      <th></th>\n",
       "      <th>Congruent</th>\n",
       "      <th>Incongruent</th>\n",
       "    </tr>\n",
       "  </thead>\n",
       "  <tbody>\n",
       "    <tr>\n",
       "      <th>count</th>\n",
       "      <td>24.000000</td>\n",
       "      <td>24.000000</td>\n",
       "    </tr>\n",
       "    <tr>\n",
       "      <th>mean</th>\n",
       "      <td>14.051125</td>\n",
       "      <td>22.015917</td>\n",
       "    </tr>\n",
       "    <tr>\n",
       "      <th>std</th>\n",
       "      <td>3.559358</td>\n",
       "      <td>4.797057</td>\n",
       "    </tr>\n",
       "    <tr>\n",
       "      <th>min</th>\n",
       "      <td>8.630000</td>\n",
       "      <td>15.687000</td>\n",
       "    </tr>\n",
       "    <tr>\n",
       "      <th>25%</th>\n",
       "      <td>11.895250</td>\n",
       "      <td>18.716750</td>\n",
       "    </tr>\n",
       "    <tr>\n",
       "      <th>50%</th>\n",
       "      <td>14.356500</td>\n",
       "      <td>21.017500</td>\n",
       "    </tr>\n",
       "    <tr>\n",
       "      <th>75%</th>\n",
       "      <td>16.200750</td>\n",
       "      <td>24.051500</td>\n",
       "    </tr>\n",
       "    <tr>\n",
       "      <th>max</th>\n",
       "      <td>22.328000</td>\n",
       "      <td>35.255000</td>\n",
       "    </tr>\n",
       "  </tbody>\n",
       "</table>\n",
       "</div>"
      ],
      "text/plain": [
       "       Congruent  Incongruent\n",
       "count  24.000000    24.000000\n",
       "mean   14.051125    22.015917\n",
       "std     3.559358     4.797057\n",
       "min     8.630000    15.687000\n",
       "25%    11.895250    18.716750\n",
       "50%    14.356500    21.017500\n",
       "75%    16.200750    24.051500\n",
       "max    22.328000    35.255000"
      ]
     },
     "execution_count": 2,
     "metadata": {},
     "output_type": "execute_result"
    }
   ],
   "source": [
    "# Provide measure of central tendency (e.g., mean/median/mode)\n",
    "# Provide measure of variability (e.g., variance/standard deviation)\n",
    "df.describe()"
   ]
  },
  {
   "cell_type": "markdown",
   "metadata": {},
   "source": [
    "<dl>\n",
    "    <dt>Measures of Central Tendency</dt>\n",
    "    <dd>Congruent Data</dd>\n",
    "    <table style=\"display: block; margin: left;\">\n",
    "        <tr>\n",
    "            <th>Measure</th>\n",
    "            <th>Value</th>\n",
    "        </tr>\n",
    "        <tr>\n",
    "            <td>Mean</td>\n",
    "            <td>14.05</td>\n",
    "        </tr>\n",
    "        <tr>\n",
    "            <td>Median</td>\n",
    "            <td>14.36</td>\n",
    "        </tr>\n",
    "    </table>\n",
    "    <br>\n",
    "    <dd>Incongruent Data </dd>\n",
    "    <table style=\"display: block; margin: left;\">\n",
    "        <tr>\n",
    "            <th>Measure</th>\n",
    "            <th>Value</th>\n",
    "        </tr>\n",
    "        <tr>\n",
    "            <td>Mean</td>\n",
    "            <td>22.02</td>\n",
    "        </tr>\n",
    "        <tr>\n",
    "            <td>Median</td>\n",
    "            <td>21.02</td>\n",
    "        </tr>\n",
    "    </table>\n",
    "    <br><br>\n",
    "    <dt>Measures of Variability</dt>\n",
    "    <dd>Congruent Data</dd>\n",
    "    <table style=\"display: block; margin: left;\">\n",
    "        <tr>\n",
    "            <th>Measure</th>\n",
    "            <th>Value</th>\n",
    "        </tr>\n",
    "        <tr>\n",
    "            <td>Variance</td>\n",
    "            <td>12.67</td>\n",
    "        </tr>\n",
    "        <tr>\n",
    "            <td>Standard Deviation</td>\n",
    "            <td>3.56</td>\n",
    "        </tr>\n",
    "    </table>\n",
    "    <br>\n",
    "    <dd>Incongruent Data</dd>\n",
    "    <table style=\"display: block; margin: left;\">\n",
    "        <tr>\n",
    "            <th>Measure</th>\n",
    "            <th>Value</th>\n",
    "        </tr>\n",
    "        <tr>\n",
    "            <td>Variance</td>\n",
    "            <td>23.01</td>\n",
    "        </tr>\n",
    "        <tr>\n",
    "            <td>Standard Deviation</td>\n",
    "            <td>4.80</td>\n",
    "        </tr>\n",
    "    </table>\n",
    "</dl>"
   ]
  },
  {
   "cell_type": "markdown",
   "metadata": {},
   "source": [
    "(4) Provide one or two visualizations that show the distribution of the sample data. Write one or two sentences noting what you observe about the plot or plots."
   ]
  },
  {
   "cell_type": "code",
   "execution_count": 3,
   "metadata": {},
   "outputs": [
    {
     "data": {
      "image/png": "[encoded data removed]",
      "text/plain": [
       "<Figure size 1152x576 with 1 Axes>"
      ]
     },
     "metadata": {},
     "output_type": "display_data"
    }
   ],
   "source": [
    "# Visualization - paired bar plot:\n",
    "samples = df.shape[0]\n",
    "\n",
    "fig, ax = plt.subplots()\n",
    "fig.set_figheight(8)\n",
    "fig.set_figwidth(16)\n",
    "index = np.arange(samples)  # the x locations for the groups\n",
    "width = 0.35                # the width of the bars\n",
    "con_plot1 = ax.bar(index, df.Congruent, width, color='b', bottom=0)\n",
    "incon_plot2 = ax.bar(index + width, df.Incongruent, width, color='y', bottom=0)\n",
    "\n",
    "ax.set_title('Reaction times by observation - Congruent vs. Incongruent word/color pairing')\n",
    "ax.set_xticks(index + width / 2)\n",
    "ax.set_xticklabels(range(1, 25))\n",
    "ax.set_xlabel('Observation Pairs')\n",
    "ax.set_ylabel('Rection Times')\n",
    "\n",
    "ax.legend((con_plot1[0], incon_plot2[0]), ('Congruent', 'Incongruent'));"
   ]
  },
  {
   "cell_type": "markdown",
   "metadata": {},
   "source": [
    "Observations:\n",
    "* The incongruent pairings always result in a longer reaction time\n",
    "* The impact and spread of the incongruent results appears to have higher variance"
   ]
  },
  {
   "cell_type": "code",
   "execution_count": 4,
   "metadata": {},
   "outputs": [
    {
     "data": {
      "image/png": "[encoded data removed]",
      "text/plain": [
       "<Figure size 864x576 with 1 Axes>"
      ]
     },
     "metadata": {},
     "output_type": "display_data"
    }
   ],
   "source": [
    "# Visualization - side-by-side box plots:\n",
    "datasets = [df.Congruent, df.Incongruent]\n",
    "\n",
    "fig, ax = plt.subplots()\n",
    "fig.set_figheight(8)\n",
    "fig.set_figwidth(12)\n",
    "boxplot = ax.boxplot(datasets);\n",
    "\n",
    "ax.set_title('Distribution of Reaction Times for word/color pairing')\n",
    "ax.set_xticklabels(['Congruent', 'Incongruent'])\n",
    "ax.set_xlabel('Congruent vs. Incongruent')\n",
    "ax.set_ylabel('Rection Times');"
   ]
  },
  {
   "cell_type": "markdown",
   "metadata": {},
   "source": [
    "(5)  Now, perform the statistical test and report your results. What is your confidence level or Type I error associated with your test? What is your conclusion regarding the hypotheses you set up? Did the results match up with your expectations? **Hint:**  Think about what is being measured on each individual, and what statistic best captures how an individual reacts in each environment."
   ]
  },
  {
   "cell_type": "code",
   "execution_count": 6,
   "metadata": {},
   "outputs": [
    {
     "name": "stdout",
     "output_type": "stream",
     "text": [
      "T Statistic:  -8.020706944109957\n",
      "P-value:  4.103000585711178e-08\n",
      "95% Confidence Interval:  (-10.424698188163974, -5.504885145169363)\n"
     ]
    }
   ],
   "source": [
    "# Statistical tests:\n",
    "from scipy.stats import ttest_rel\n",
    "import statsmodels.stats.api as sms\n",
    "\n",
    "tstat, pval = ttest_rel(df.Congruent, df.Incongruent)\n",
    "cm = sms.CompareMeans(sms.DescrStatsW(df.Congruent), sms.DescrStatsW(df.Incongruent))\n",
    "\n",
    "print(f'T Statistic:  {tstat}')\n",
    "print(f'P-value:  {pval}')\n",
    "print(f'95% Confidence Interval:  {cm.tconfint_diff(usevar=\"unequal\")}')\n",
    "# R t.test with paired data?..."
   ]
  },
  {
   "cell_type": "markdown",
   "metadata": {},
   "source": [
    "The Null Hypothesis states the means for the Congruent and Incongruent datasets are equal.  The results show we reject the Null.  The T Statistic is quite large - it's showing that there's a large difference between the means of the datasets.  From looking at the above plot, this makes sense.  The mean of the first (congruent) dataset is quite a bit lower than the second.  The P-value is quite low:  p < 0.001.  This is showing that the chance of Type I error is very remote.  The confidence interval shows the difference in means is roughly between -10.4 to -5.5, or the mean of the congruent dataset is quite a bit lower than the incongruent dataset."
   ]
  },
  {
   "cell_type": "markdown",
   "metadata": {},
   "source": [
    "(6) Optional: What do you think is responsible for the effects observed? Can you think of an alternative or similar task that would result in a similar effect? Some research about the problem will be helpful for thinking about these two questions!"
   ]
  },
  {
   "cell_type": "markdown",
   "metadata": {},
   "source": [
    "The results are most likely caused by a sort of cognitive dissonance impeding reaction time.  Thus any object shown with incongruent aspects where the subject must process these aspects will likely yield a reduced reaction time."
   ]
  },
  {
   "cell_type": "markdown",
   "metadata": {},
   "source": [
    "#### Resources Used\n",
    "* StackOverflow\n",
    "* Matplotlib docs/site\n",
    "* <a href=\"http://www.psychology.emory.edu/clinical/bliwise/Tutorials/TOM/meanstests/assump.htm\">Test Assumptions</a>\n",
    "* <a href=\"http://support.minitab.com/en-us/minitab/17/topic-library/basic-statistics-and-graphs/hypothesis-tests/tests-of-means/why-use-paired-t/\">Why should I use a paired t test?</a>"
   ]
  }
 ],
 "metadata": {
  "kernelspec": {
   "display_name": "Python 3",
   "language": "python",
   "name": "python3"
  },
  "language_info": {
   "codemirror_mode": {
    "name": "ipython",
    "version": 3
   },
   "file_extension": ".py",
   "mimetype": "text/x-python",
   "name": "python",
   "nbconvert_exporter": "python",
   "pygments_lexer": "ipython3",
   "version": "3.6.5"
  }
 },
 "nbformat": 4,
 "nbformat_minor": 2
}
